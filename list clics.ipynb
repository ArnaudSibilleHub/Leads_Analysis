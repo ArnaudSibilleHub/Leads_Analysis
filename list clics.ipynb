{
 "cells": [
  {
   "cell_type": "code",
   "execution_count": null,
   "metadata": {},
   "outputs": [],
   "source": [
    "#import packages\n",
    "import pandas as pd\n",
    "import datetime as dt\n",
    "import numpy as np\n",
    "\n",
    "import os\n"
   ]
  },
  {
   "cell_type": "code",
   "execution_count": null,
   "metadata": {},
   "outputs": [],
   "source": [
    "#missing datas / map empty cells\n",
    "#=> terminal : pip install missingno\n",
    "import missingno as mno\n"
   ]
  },
  {
   "cell_type": "code",
   "execution_count": null,
   "metadata": {},
   "outputs": [],
   "source": [
    "#import file and first infos\n",
    "list_clics = pd.read_excel(\"C:/Users/BGE/Downloads/export_mises_en_relation_2024_01_15.xlsx\")\n",
    "list_clics.info()\n",
    "\n"
   ]
  },
  {
   "cell_type": "code",
   "execution_count": null,
   "metadata": {},
   "outputs": [],
   "source": [
    "# discover structure of dataframe\n",
    "list_clics.head()\n"
   ]
  },
  {
   "cell_type": "code",
   "execution_count": null,
   "metadata": {},
   "outputs": [],
   "source": [
    "#nb of lines\n",
    "list_clics.count"
   ]
  },
  {
   "cell_type": "code",
   "execution_count": null,
   "metadata": {},
   "outputs": [],
   "source": [
    "# column structures\n",
    "list_clics.columns"
   ]
  },
  {
   "cell_type": "code",
   "execution_count": null,
   "metadata": {},
   "outputs": [],
   "source": [
    "# duplicates\n",
    "list_unduplicated = list_clics.drop_duplicates()\n",
    "list_unduplicated.count()"
   ]
  },
  {
   "cell_type": "code",
   "execution_count": null,
   "metadata": {},
   "outputs": [],
   "source": []
  },
  {
   "cell_type": "code",
   "execution_count": null,
   "metadata": {},
   "outputs": [],
   "source": [
    "#truncate without hours + datetime format\n",
    "#Date_rel_dt = pd.to_datetime(list_unduplicated['Date mise en relation'])\n",
    "#Date_rel_dt.dt.date\n",
    "\n",
    "list_unduplicated = list_unduplicated.assign(date_without_time = lambda x: pd.to_datetime(x['Date mise en relation']).dt.date)\n",
    "type(list_unduplicated)\n"
   ]
  },
  {
   "cell_type": "code",
   "execution_count": null,
   "metadata": {},
   "outputs": [],
   "source": []
  },
  {
   "cell_type": "code",
   "execution_count": null,
   "metadata": {},
   "outputs": [],
   "source": [
    "#map empty/na cells\n",
    "mno.matrix(list_unduplicated)"
   ]
  },
  {
   "cell_type": "code",
   "execution_count": null,
   "metadata": {},
   "outputs": [],
   "source": [
    "#check if any null data\n",
    "list_unduplicated.isnull().sum()\n",
    "list_unduplicated"
   ]
  },
  {
   "cell_type": "code",
   "execution_count": null,
   "metadata": {},
   "outputs": [],
   "source": [
    "#create partners table\n",
    "df_partners = list_unduplicated[~list_unduplicated.duplicated(subset=['Partenaire'])].copy()\n",
    "df_partners = df_partners[ ['Partenaire', 'Contact partenaire']]\n",
    "df_partners['Partenaire'].str.strip()\n",
    "df_partners.sort_values(by='Partenaire')\n",
    "#df_partners['Partenaire'] = pd.Series(df_partners['Partenaire'])\n",
    "\n",
    "#create index\n",
    "erase_space = lambda x : x.replace(' ', '')\n",
    "strip_index = lambda x : x.str.strip()\n",
    "df_partners['idPartners'] = df_partners['Partenaire'].apply(erase_space, strip_index)\n",
    "df_partners.sort_values(by='Partenaire', inplace=True)\n",
    "\n",
    "df_partners.loc[(df_partners['Partenaire'].str.contains('Groupama'))]\n",
    "#df_partners[groupama]"
   ]
  },
  {
   "cell_type": "code",
   "execution_count": null,
   "metadata": {},
   "outputs": [],
   "source": [
    "#create partners table\n",
    "list_unduplicated.sort_values(by='Date mise en relation')\n",
    "df_partners = list_unduplicated.groupby(['Partenaire']).first()\n",
    "\n",
    "df_partners.values"
   ]
  },
  {
   "cell_type": "code",
   "execution_count": null,
   "metadata": {},
   "outputs": [],
   "source": [
    "#replace empty cells\n",
    "#def str_or_not(x):\n",
    "    #if x == '':\n",
    "        #if isinstance(x, str):\n",
    "        #x.replace('', np.nan)\n",
    "    #\"else: x\n",
    "\n",
    "#list_unduplicated_unblanked = list_unduplicated.apply(lambda x: x.str.strip().replace('', np.nan))\n",
    "list_unduplicated_unblanked = list_unduplicated.replace('', np.nan)\n",
    "#mno.matrix(list_unduplicated_unblanked)\n",
    "\n",
    "#list_unduplicated_unblanked.isnull().sum()\n",
    "list_unduplicated_unblanked.isna().sum()\n",
    "type(list_unduplicated_unblanked)\n",
    "\n"
   ]
  },
  {
   "cell_type": "code",
   "execution_count": null,
   "metadata": {},
   "outputs": [],
   "source": [
    "#fillna blank cells\n",
    "list_unduplicated_unblanked['Contact partenaire'].fillna('inconnu@adfinir.com', inplace=True)\n",
    "list_unduplicated_unblanked['Telephone'].fillna('0600000000', inplace=True)\n",
    "list_unduplicated_unblanked.isna().sum()\n",
    "\n"
   ]
  },
  {
   "cell_type": "code",
   "execution_count": null,
   "metadata": {},
   "outputs": [],
   "source": [
    "list_unduplicated_unblanked.head()"
   ]
  },
  {
   "cell_type": "code",
   "execution_count": null,
   "metadata": {},
   "outputs": [],
   "source": [
    "list_unduplicated_unblanked.duplicated(subset=['Entrepreneur', 'Email', 'Telephone', 'Partenaire', 'Catégorie partenaire', 'Conseiller','Antenne', 'Date mise en relation', 'date_without_time']).sum()"
   ]
  },
  {
   "cell_type": "code",
   "execution_count": null,
   "metadata": {},
   "outputs": [],
   "source": [
    "list_cleaned = list_unduplicated_unblanked.drop(columns=['Telephone', 'BGE Club', 'Contact partenaire', 'Date mise en relation', 'A été contacté', 'A eu un échange', 'Note'] )\n",
    "list_cleaned"
   ]
  },
  {
   "cell_type": "code",
   "execution_count": null,
   "metadata": {},
   "outputs": [],
   "source": [
    "#create a \n",
    "list_cleaned.to_csv('list_cleaned_15.01', index=False)"
   ]
  }
 ],
 "metadata": {
  "kernelspec": {
   "display_name": "base",
   "language": "python",
   "name": "python3"
  },
  "language_info": {
   "codemirror_mode": {
    "name": "ipython",
    "version": 3
   },
   "file_extension": ".py",
   "mimetype": "text/x-python",
   "name": "python",
   "nbconvert_exporter": "python",
   "pygments_lexer": "ipython3",
   "version": "3.11.5"
  }
 },
 "nbformat": 4,
 "nbformat_minor": 2
}
