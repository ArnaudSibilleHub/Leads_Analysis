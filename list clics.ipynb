{
 "cells": [
  {
   "cell_type": "code",
   "execution_count": null,
   "metadata": {},
   "outputs": [],
   "source": [
    "#import packages\n",
    "import pandas as pd\n",
    "import datetime as dt\n",
    "import numpy as np\n",
    "\n",
    "import os\n"
   ]
  },
  {
   "cell_type": "code",
   "execution_count": null,
   "metadata": {},
   "outputs": [],
   "source": [
    "#missing datas / map empty cells\n",
    "#=> terminal : pip install missingno\n",
    "!python3 -m pip install missingno\n",
    "import missingno as mno\n",
    "\n"
   ]
  },
  {
   "cell_type": "code",
   "execution_count": null,
   "metadata": {},
   "outputs": [],
   "source": [
    "#import file and first infos\n",
    "list_clics = pd.read_excel(\"C:/Users/BGE/ownCloud/Arnaud/DEVELOPPEMENT/ACTIVITE/Sponso owncloud perso AS/Conventions et suivi activité/SUIVI CLICS/2024/export_mises_en_relation_2024_03_29.xlsx\")\n",
    "list_clics.info()"
   ]
  },
  {
   "cell_type": "code",
   "execution_count": null,
   "metadata": {},
   "outputs": [],
   "source": [
    "# discover structure of dataframe\n",
    "list_clics.head()\n"
   ]
  },
  {
   "cell_type": "code",
   "execution_count": null,
   "metadata": {},
   "outputs": [],
   "source": [
    "#nb of lines\n",
    "list_clics.count()"
   ]
  },
  {
   "cell_type": "code",
   "execution_count": null,
   "metadata": {},
   "outputs": [],
   "source": [
    "# column structures\n",
    "list_clics.columns"
   ]
  },
  {
   "cell_type": "code",
   "execution_count": null,
   "metadata": {},
   "outputs": [],
   "source": [
    "# duplicates\n",
    "list_unduplicated = list_clics.sort_values(by=[\"Entrepreneur\", \"Partenaire\"])\n",
    "list_unduplicated.drop_duplicates()\n",
    "list_unduplicated.count()"
   ]
  },
  {
   "cell_type": "code",
   "execution_count": null,
   "metadata": {},
   "outputs": [],
   "source": [
    "#truncate without hours + datetime format\n",
    "#Date_rel_dt = pd.to_datetime(list_unduplicated['Date mise en relation'])\n",
    "#Date_rel_dt.dt.date\n",
    "\n",
    "from datetime import datetime\n",
    "\n",
    "# create a 'date_without_time' column \n",
    "# list_unduplicated['date_without_time'] = list_unduplicated['Date mise en relation'].apply(lambda x: datetime.strptime(x, '%Y-%m-%d %H:%M').date())\n",
    "\n",
    "\n",
    "\n",
    "# Apply lambda function to extract date part without time\n",
    "list_unduplicated['date_without_time'] = list_unduplicated['Date mise en relation'].apply(lambda x: x.date())\n",
    "# Convert the 'Date mise en relation' column to datetime objects\n",
    "list_unduplicated['date_without_time'] = pd.to_datetime(list_unduplicated['date_without_time'])\n",
    "\n",
    "type(list_unduplicated['date_without_time'])\n",
    "list_unduplicated\n"
   ]
  },
  {
   "cell_type": "code",
   "execution_count": null,
   "metadata": {},
   "outputs": [],
   "source": [
    "list_unduplicated.groupby('Antenne').count()"
   ]
  },
  {
   "cell_type": "code",
   "execution_count": null,
   "metadata": {},
   "outputs": [],
   "source": [
    "#map empty/na cells\n",
    "mno.matrix(list_unduplicated)"
   ]
  },
  {
   "cell_type": "code",
   "execution_count": null,
   "metadata": {},
   "outputs": [],
   "source": [
    "#check if any null data\n",
    "list_unduplicated.isnull().sum()\n"
   ]
  },
  {
   "cell_type": "markdown",
   "metadata": {},
   "source": [
    "PARTNERS LIST TABLES"
   ]
  },
  {
   "cell_type": "code",
   "execution_count": null,
   "metadata": {},
   "outputs": [],
   "source": [
    "#create partners table\n",
    "df_partners = list_unduplicated[~list_unduplicated.duplicated(subset=['Partenaire'])].copy()\n",
    "df_partners = df_partners[ ['Partenaire', 'Contact partenaire', 'Antenne'] ]\n",
    "df_partners.sort_values(by='Partenaire', inplace=True)\n",
    "\n",
    "df_partners.loc[(df_partners['Partenaire'].str.contains('Groupama'))]\n",
    "#df_partners[groupama]"
   ]
  },
  {
   "cell_type": "code",
   "execution_count": null,
   "metadata": {},
   "outputs": [],
   "source": [
    "#clean the datas\n",
    "from unidecode import unidecode\n",
    "\n",
    "# Define lambdas for transformations\n",
    "lower_index = lambda x: x.lower() if isinstance(x, str) else x\n",
    "erase_indent = lambda x: x.replace(\"-\", \" \") if isinstance(x, str) and '@' not in x else x\n",
    "strip_index = lambda x: x.strip() if isinstance(x, str) else x\n",
    "accents_strip = lambda x: unidecode(x) if isinstance(x, str) else x  # Apply unidecode only to string values\n",
    "erase_apostrophe = lambda x: x.replace(\"'\", \" \") if isinstance(x, str) else x\n",
    "\n",
    "# Identify columns with dtype 'object' (string columns)\n",
    "str_columns_list = [str_column for str_column in df_partners.columns if df_partners.columns.dtype == 'object']\n",
    "\n",
    "# Apply transformations to selected string columns\n",
    "for str_column in str_columns_list:\n",
    "    df_partners[str_column] = df_partners[str_column].apply(lower_index).apply(erase_indent).apply(strip_index).apply(accents_strip).apply(erase_apostrophe)\n",
    "\n",
    "# Output the transformed DataFrame\n",
    "df_partners"
   ]
  },
  {
   "cell_type": "code",
   "execution_count": null,
   "metadata": {},
   "outputs": [],
   "source": [
    "#reset_index\n",
    "df_partners.reset_index(drop=True)"
   ]
  },
  {
   "cell_type": "markdown",
   "metadata": {},
   "source": [
    "------------ End of partners list\n"
   ]
  },
  {
   "cell_type": "code",
   "execution_count": null,
   "metadata": {},
   "outputs": [],
   "source": [
    "df_partners.to_csv('list_parteners_02_2024.csv', index=False)"
   ]
  },
  {
   "cell_type": "code",
   "execution_count": null,
   "metadata": {},
   "outputs": [],
   "source": [
    "#clean datas\n",
    "\n",
    "## replace null by numpy \"nan\"\n",
    "#list_unduplicated_unblanked = list_unduplicated.apply(lambda x: x.str.strip().replace('', np.nan))\n",
    "list_unduplicated_unblanked = list_unduplicated.replace('', np.nan)\n",
    "\n",
    "## count how many null\n",
    "#list_unduplicated_unblanked.isnull().sum()\n",
    "list_unduplicated_unblanked.isna().sum()\n",
    "\n"
   ]
  },
  {
   "cell_type": "code",
   "execution_count": null,
   "metadata": {},
   "outputs": [],
   "source": [
    "#fillna blank cells\n",
    "list_unduplicated_unblanked['Contact partenaire'].fillna('inconnu@adfinir.com', inplace=True)\n",
    "list_unduplicated_unblanked['Telephone'].fillna('0600000000', inplace=True)\n",
    "list_unduplicated_unblanked.isna().sum()\n",
    "\n"
   ]
  },
  {
   "cell_type": "code",
   "execution_count": null,
   "metadata": {},
   "outputs": [],
   "source": [
    "#explore list and datas\n",
    "list_unduplicated_unblanked.head()\n",
    "list_unduplicated_unblanked.info()"
   ]
  },
  {
   "cell_type": "code",
   "execution_count": null,
   "metadata": {},
   "outputs": [],
   "source": [
    "# check duplicated and select unduplicated only\n",
    "list_duplicated_unblanked=list_unduplicated_unblanked.duplicated(subset=['Entrepreneur', 'Email', 'Telephone', 'Partenaire', 'Catégorie partenaire', 'Conseiller','Antenne', 'Date mise en relation', 'date_without_time'])\n",
    "list_unduplicated_unblanked = list_unduplicated_unblanked[~list_duplicated_unblanked]\n",
    "list_unduplicated_unblanked "
   ]
  },
  {
   "cell_type": "code",
   "execution_count": null,
   "metadata": {},
   "outputs": [],
   "source": [
    "#erase useless columns and reset index\n",
    "list_cleaned = list_unduplicated_unblanked.drop(columns=['Telephone', 'BGE Club', 'Contact partenaire', 'Date mise en relation', 'A été contacté', 'A eu un échange', 'Note'] )\n",
    "list_cleaned = list_cleaned.reset_index(drop=True)"
   ]
  },
  {
   "cell_type": "code",
   "execution_count": null,
   "metadata": {},
   "outputs": [],
   "source": [
    "from unidecode import unidecode\n",
    "\n",
    "# Define lambdas for transformations\n",
    "lower_index = lambda x: x.lower() if isinstance(x, str) else x\n",
    "erase_indent = lambda x: x.replace('-', ' ') if isinstance(x, str) else x\n",
    "strip_index = lambda x: x.strip() if isinstance(x, str) else x\n",
    "accents_strip = lambda x: unidecode(x) if isinstance(x, str) else x  # Apply unidecode only to string values\n",
    "erase_apostrophe = lambda x: x.replace(\"'\", \" \") if isinstance(x, str) else x\n",
    "\n",
    "# Define function to decode string using multiple encodings\n",
    "def decode_string(original_string):\n",
    "    if isinstance(original_string, int):  # Check if input is an integer (likely an Excel date)\n",
    "        return original_string  # Return the integer as is\n",
    "    elif isinstance(original_string, float):  # Check if input is a float\n",
    "        return original_string  # Return the float as is\n",
    "    else:\n",
    "        encodings_to_try = ['utf-8', 'latin-1', 'windows-1252']\n",
    "        encoded_string = original_string.encode('utf-8')  # Encode once before the loop\n",
    "        for encoding in encodings_to_try:\n",
    "            try:\n",
    "                decoded_text = encoded_string.decode(encoding)\n",
    "                return decoded_text\n",
    "            except UnicodeDecodeError:\n",
    "                print(f\"Failed to decode with {encoding}\")\n",
    "        return original_string  # Return original value if all decoding attempts fail\n",
    "\n",
    "# Identify columns with dtype 'object' (string columns)\n",
    "str_columns_list = [str_column for str_column in list_cleaned.columns if list_cleaned[str_column].dtype == 'object']\n",
    "\n",
    "# Apply transformations to selected string columns\n",
    "for column in str_columns_list:\n",
    "    list_cleaned[column] = list_cleaned[column].apply(decode_string).apply(lower_index).apply(erase_indent).apply(strip_index).apply(accents_strip).apply(erase_apostrophe)\n",
    "\n",
    "# Output the transformed DataFrame\n",
    "list_cleaned"
   ]
  },
  {
   "cell_type": "code",
   "execution_count": null,
   "metadata": {},
   "outputs": [],
   "source": [
    "#create a csv file\n",
    "list_cleaned.to_csv('list_cleaned_02_29v2.csv', index=False)"
   ]
  }
 ],
 "metadata": {
  "kernelspec": {
   "display_name": "base",
   "language": "python",
   "name": "python3"
  },
  "language_info": {
   "codemirror_mode": {
    "name": "ipython",
    "version": 3
   },
   "file_extension": ".py",
   "mimetype": "text/x-python",
   "name": "python",
   "nbconvert_exporter": "python",
   "pygments_lexer": "ipython3",
   "version": "3.11.7"
  }
 },
 "nbformat": 4,
 "nbformat_minor": 2
}
